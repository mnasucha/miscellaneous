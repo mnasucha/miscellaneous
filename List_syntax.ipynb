{
  "nbformat": 4,
  "nbformat_minor": 0,
  "metadata": {
    "colab": {
      "name": "List_syntax.ipynb",
      "provenance": [],
      "collapsed_sections": [],
      "authorship_tag": "ABX9TyMw48n9NbBRfs83IRdYvfPF"
    },
    "kernelspec": {
      "name": "python3",
      "display_name": "Python 3"
    },
    "accelerator": "GPU"
  },
  "cells": [
    {
      "cell_type": "markdown",
      "metadata": {
        "id": "A3hSabfrJ-Iu"
      },
      "source": [
        "SYNTAX FOR *LIST*\r\n"
      ]
    },
    {
      "cell_type": "markdown",
      "metadata": {
        "id": "kdB_lUBCLUhs"
      },
      "source": [
        "Each element of a list can be of any data type. In this example, data types are integer and string."
      ]
    },
    {
      "cell_type": "code",
      "metadata": {
        "id": "AMVvSLIbdSXW",
        "colab": {
          "base_uri": "https://localhost:8080/"
        },
        "outputId": "c2715aa6-28d1-4ef7-c843-829a3ab6fa3c"
      },
      "source": [
        "List = ('0', 1, '2', 3, '4', 5, '6', 7, '8')\r\n",
        "print(List)"
      ],
      "execution_count": null,
      "outputs": [
        {
          "output_type": "stream",
          "text": [
            "('0', 1, '2', 3, '4', 5, '6', 7, '8')\n"
          ],
          "name": "stdout"
        }
      ]
    },
    {
      "cell_type": "code",
      "metadata": {
        "colab": {
          "base_uri": "https://localhost:8080/"
        },
        "id": "yjdaEFFEdliL",
        "outputId": "6b9a21d7-26cd-45d2-92d8-9d5c0d2e6cf8"
      },
      "source": [
        "print(List[:])"
      ],
      "execution_count": null,
      "outputs": [
        {
          "output_type": "stream",
          "text": [
            "('0', 1, '2', 3, '4', 5, '6', 7, '8')\n"
          ],
          "name": "stdout"
        }
      ]
    },
    {
      "cell_type": "code",
      "metadata": {
        "colab": {
          "base_uri": "https://localhost:8080/"
        },
        "id": "oapcRU33IEGQ",
        "outputId": "7efbc44c-b71a-48d7-e9f3-ac41a54f2fd0"
      },
      "source": [
        "print(List[:3])"
      ],
      "execution_count": null,
      "outputs": [
        {
          "output_type": "stream",
          "text": [
            "('0', 1, '2')\n"
          ],
          "name": "stdout"
        }
      ]
    },
    {
      "cell_type": "code",
      "metadata": {
        "colab": {
          "base_uri": "https://localhost:8080/"
        },
        "id": "UdGdenGXJYIg",
        "outputId": "e4a50c22-d981-4706-a0b9-b5b8e64d3085"
      },
      "source": [
        "print(List[3:])"
      ],
      "execution_count": null,
      "outputs": [
        {
          "output_type": "stream",
          "text": [
            "(3, '4', 5, '6', 7, '8')\n"
          ],
          "name": "stdout"
        }
      ]
    },
    {
      "cell_type": "code",
      "metadata": {
        "id": "PhlSkO41JvrU"
      },
      "source": [
        ""
      ],
      "execution_count": null,
      "outputs": []
    }
  ]
}